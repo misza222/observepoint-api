{
 "cells": [
  {
   "cell_type": "markdown",
   "metadata": {},
   "source": [
    "# ObservePoint API Management to Scale Governance for a large scale of Digital Assets \n",
    "## Create ObservePoint Audits based on Templat Audit created in ObservePoint UI\n",
    "\n",
    "1. [Load Libraries](#1.-Load-Libraries-needed)\n",
    "1. [Setup](#2.-Setup-API-&-Template-Audit-ID)\n",
    "1. [API Call](#3.-API-Call)\n",
    "1. [Check if Domain exists](#4.-Check-if-Domain-exists)\n",
    "1. [Check if Audit exists](#5.-Check-if-Audit-exists)\n",
    "1. [Create Domain](#6.-Create-Domain)\n",
    "1. [Create Audit](#7.-Create-Audit)\n",
    "1. [Get all Domains](#8.-Get-all-Domains-in-ObservePoint)\n",
    "1. [Get all Audits](#9.-Get-all-Audits-in-ObservePoint)\n",
    "1. [Create Audits](#10.-Create-Audits)"
   ]
  },
  {
   "cell_type": "markdown",
   "metadata": {},
   "source": [
    "### 1. Load Libraries needed"
   ]
  },
  {
   "cell_type": "code",
   "execution_count": null,
   "metadata": {},
   "outputs": [],
   "source": [
    "# If those modules are not installed in your environment \n",
    "# !pip install requests pandas"
   ]
  },
  {
   "cell_type": "code",
   "execution_count": 47,
   "metadata": {},
   "outputs": [],
   "source": [
    "import requests as req\n",
    "import pandas as pd\n",
    "import json\n",
    "import operator\n",
    "import time\n",
    "import random"
   ]
  },
  {
   "cell_type": "markdown",
   "metadata": {},
   "source": [
    "### 2. Setup API & Template Audit ID"
   ]
  },
  {
   "cell_type": "code",
   "execution_count": null,
   "metadata": {},
   "outputs": [],
   "source": [
    "apiKey = \"API_KEY\"\n",
    "api = \"https://api.observepoint.com/v2/\"\n",
    "\n",
    "template_audit_id = TEMPLATE_ID"
   ]
  },
  {
   "cell_type": "markdown",
   "metadata": {},
   "source": [
    "### 3. API Call"
   ]
  },
  {
   "cell_type": "code",
   "execution_count": 34,
   "metadata": {},
   "outputs": [],
   "source": [
    "def get_data(endpoint,method=\"GET\",payload={}):\n",
    "    headers = { \n",
    "                'authorization': \"api_key \" + apiKey,\n",
    "                'accept': 'application/json'\n",
    "    }\n",
    "    \n",
    "    if method in [\"POST\", \"PUT\"]:\n",
    "        headers['Content-Type'] = 'application/json'\n",
    "        \n",
    "    response = req.request(method, api+endpoint, data=payload, headers=headers)   \n",
    "    status_code = response.status_code\n",
    "    \n",
    "    if method in [\"GET\",\"POST\"]:\n",
    "        response = response.json()\n",
    "\n",
    "    return response, status_code"
   ]
  },
  {
   "cell_type": "markdown",
   "metadata": {},
   "source": [
    "### 4. Check if Domain exists"
   ]
  },
  {
   "cell_type": "code",
   "execution_count": null,
   "metadata": {},
   "outputs": [],
   "source": [
    "def get_domain_id_if_exists(domain_name, ob_domains):\n",
    "    for d in ob_domains:\n",
    "        if d[\"domain\"] == domain_name:\n",
    "            return d[\"id\"]\n",
    "    return False"
   ]
  },
  {
   "cell_type": "markdown",
   "metadata": {},
   "source": [
    "### 5. Check if Audit exists"
   ]
  },
  {
   "cell_type": "code",
   "execution_count": null,
   "metadata": {},
   "outputs": [],
   "source": [
    "def get_audit_id_if_exists(domain_name, ob_audits):\n",
    "    for a in ob_audits:\n",
    "        if a[\"name\"] == domain_name:\n",
    "            return a[\"id\"]\n",
    "    return False "
   ]
  },
  {
   "cell_type": "markdown",
   "metadata": {},
   "source": [
    "### 6. Create Domain"
   ]
  },
  {
   "cell_type": "code",
   "execution_count": null,
   "metadata": {},
   "outputs": [],
   "source": [
    "def create_domain(domain_name):\n",
    "    domain_response , _ = get_data(\n",
    "        \"domains\",\n",
    "        \"POST\",\n",
    "        json.dumps({\n",
    "          'name': domain_name,\n",
    "          'domain': domain_name\n",
    "        })\n",
    "    )\n",
    "    domain_id = domain_response[\"id\"]\n",
    "    \n",
    "    return domain_id"
   ]
  },
  {
   "cell_type": "markdown",
   "metadata": {},
   "source": [
    "### 7. Create Audit"
   ]
  },
  {
   "cell_type": "code",
   "execution_count": null,
   "metadata": {},
   "outputs": [],
   "source": [
    "def create_audit(domain_id, domain_name, template_audit_id):\n",
    "    template_audit , _ = get_data(f\"web-audits/{template_audit_id}\")\n",
    "    template_audit[\"name\"] = domain_name\n",
    "    template_audit[\"startingUrls\"] = [f'https://{domain_name}']\n",
    "    template_audit[\"filters\"][\"include\"][0][\"value\"] = f'^https?://(www\\.)?{domain_name}'\n",
    "    template_audit[\"domainId\"] = domain_id\n",
    "\n",
    "\n",
    "    audit_response , _ = get_data(\"web-audits\",\"POST\",json.dumps(template_audit))    \n",
    "    audit_id = audit_response[\"id\"]\n",
    "\n",
    "    ob_template_audit_actions , _ = get_data(f\"web-audits/{template_audit_id}/actions\")\n",
    "    \n",
    "    action_response , action_status = get_data(\n",
    "        f\"web-audits/{audit_id}/actions\",\"PUT\",\n",
    "        json.dumps({\n",
    "            \"actions\": ob_template_audit_actions\n",
    "        })\n",
    "    )\n",
    "    \n",
    "    return audit_id"
   ]
  },
  {
   "cell_type": "markdown",
   "metadata": {},
   "source": [
    "### 8. Get all Domains in ObservePoint"
   ]
  },
  {
   "cell_type": "code",
   "execution_count": null,
   "metadata": {},
   "outputs": [],
   "source": [
    "def get_domains():\n",
    "    return get_data(\"domains\")[0]"
   ]
  },
  {
   "cell_type": "markdown",
   "metadata": {},
   "source": [
    "### 9. Get all Audits in ObservePoint"
   ]
  },
  {
   "cell_type": "code",
   "execution_count": null,
   "metadata": {},
   "outputs": [],
   "source": [
    "def get_audits():\n",
    "    ob_audits =  get_data(\"web-audits\")[0]\n",
    "    \n",
    "    return ob_audits"
   ]
  },
  {
   "cell_type": "markdown",
   "metadata": {},
   "source": [
    "### 10. Create Audits"
   ]
  },
  {
   "cell_type": "code",
   "execution_count": null,
   "metadata": {},
   "outputs": [],
   "source": [
    "def create_audits(list_of_domains, template_audit_id):\n",
    "    ob_domains = get_domains()\n",
    "    ob_audits = get_audits()\n",
    "\n",
    "    for domain_name in list_of_domains:\n",
    "        domain_id = get_domain_id_if_exists(domain_name, ob_domains)\n",
    "        \n",
    "        if not domain_id:\n",
    "            domain_id = create_domain(domain_name)\n",
    "            print(f\"domain {domain_name} created and assigned id {domain_id} \", sep=\"\")\n",
    "    \n",
    "        audit_id = get_audit_id_if_exists(domain_name, ob_audits)\n",
    "        if not audit_id:\n",
    "            audit_id = create_audit(domain_id, domain_name, template_audit_id)\n",
    "            print(f\"audit for {domain_name} created and assigned id {audit_id}\")\n",
    "    \n",
    "    \n",
    "doamin_list = ['domain1', 'domain2']\n",
    "create_audits(doamin_list, template_audit_id=template_audit_id)"
   ]
  }
 ],
 "metadata": {
  "kernelspec": {
   "display_name": "Python 3",
   "language": "python",
   "name": "python3"
  },
  "language_info": {
   "codemirror_mode": {
    "name": "ipython",
    "version": 3
   },
   "file_extension": ".py",
   "mimetype": "text/x-python",
   "name": "python",
   "nbconvert_exporter": "python",
   "pygments_lexer": "ipython3",
   "version": "3.6.9"
  }
 },
 "nbformat": 4,
 "nbformat_minor": 4
}
